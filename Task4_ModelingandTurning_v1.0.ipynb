{
 "cells": [
  {
   "cell_type": "markdown",
   "metadata": {},
   "source": [
    "# TIANCHI x Datawhale 二手车交易价格预测\n",
    "\n",
    "## Task4_Modeling and Turning\n",
    "\n",
    "## 四、建模与调参   "
   ]
  },
  {
   "cell_type": "markdown",
   "metadata": {},
   "source": [
    "## 4.1 学习目标\n",
    "\n",
    "* 了解常用的机器学习模型，并掌握机器学习模型的建模与调参流程"
   ]
  },
  {
   "cell_type": "markdown",
   "metadata": {},
   "source": [
    "## 4.2 内容介绍\n",
    "\n",
    "1. 线性回归模型：\n",
    "    - 线性回归对于特征的要求；\n",
    "    - 处理长尾分布；\n",
    "    - 理解线性回归模型；\n",
    "2. 模型性能验证：\n",
    "    - 评价函数与目标函数；\n",
    "    - 交叉验证方法；\n",
    "    - 留一验证方法；\n",
    "    - 针对时间序列问题的验证；\n",
    "    - 绘制学习率曲线；\n",
    "    - 绘制验证曲线；\n",
    "3. 嵌入式特征选择：\n",
    "    - Lasso回归；\n",
    "    - Ridge回归；\n",
    "    - 决策树；\n",
    "4. 模型对比：\n",
    "    - 常用线性模型；\n",
    "    - 常用非线性模型；\n",
    "5. 模型调参：\n",
    "    - 贪心调参方法；\n",
    "    - 网格调参方法；\n",
    "    - 贝叶斯调参方法；"
   ]
  },
  {
   "cell_type": "markdown",
   "metadata": {},
   "source": [
    "## 4.3 相关原理介绍与参考\n",
    "\n",
    "\n",
    "### 4.3.1 线性回归模型\n",
    "\n",
    "https://zhuanlan.zhihu.com/p/49480391\n",
    "\n",
    "### 4.3.2 决策树模型\n",
    "\n",
    "https://zhuanlan.zhihu.com/p/65304798\n",
    "\n",
    "### 4.3.3 GBDT模型\n",
    "\n",
    "https://zhuanlan.zhihu.com/p/45145899\n",
    "\n",
    "### 4.3.4 XGBoost模型\n",
    "\n",
    "https://zhuanlan.zhihu.com/p/86816771\n",
    "\n",
    "### 4.3.5 LightGBM模型\n",
    "\n",
    "https://zhuanlan.zhihu.com/p/89360721\n",
    "\n",
    "### 4.3.6 推荐教材：\n",
    "\n",
    "   - 《机器学习》 https://book.douban.com/subject/26708119/\n",
    "   - 《统计学习方法》 https://book.douban.com/subject/10590856/\n",
    "   - 《Python大战机器学习》 https://book.douban.com/subject/26987890/\n",
    "   - 《面向机器学习的特征工程》 https://book.douban.com/subject/26826639/\n",
    "   - 《数据科学家访谈录》 https://book.douban.com/subject/30129410/\n"
   ]
  },
  {
   "cell_type": "markdown",
   "metadata": {},
   "source": [
    "## 4.4 代码示例"
   ]
  },
  {
   "cell_type": "markdown",
   "metadata": {},
   "source": [
    "### 4.4.1 读取数据"
   ]
  },
  {
   "cell_type": "code",
   "execution_count": 1,
   "metadata": {},
   "outputs": [],
   "source": [
    "import pandas as pd\n",
    "import numpy as np\n",
    "import warnings\n",
    "warnings.filterwarnings('ignore')"
   ]
  },
  {
   "cell_type": "markdown",
   "metadata": {},
   "source": [
    "reduce_mem_usage 函数通过调整数据类型，帮助我们减少数据在内存中占用的空间"
   ]
  },
  {
   "cell_type": "code",
   "execution_count": 2,
   "metadata": {},
   "outputs": [],
   "source": [
    "def reduce_mem_usage(df):\n",
    "    \"\"\" iterate through all the columns of a dataframe and modify the data type\n",
    "        to reduce memory usage.        \n",
    "    \"\"\"\n",
    "    start_mem = df.memory_usage().sum() \n",
    "    print('Memory usage of dataframe is {:.2f} MB'.format(start_mem))\n",
    "    \n",
    "    for col in df.columns:\n",
    "        col_type = df[col].dtype\n",
    "        \n",
    "        if col_type != object:\n",
    "            c_min = df[col].min()\n",
    "            c_max = df[col].max()\n",
    "            if str(col_type)[:3] == 'int':\n",
    "                if c_min > np.iinfo(np.int8).min and c_max < np.iinfo(np.int8).max:\n",
    "                    df[col] = df[col].astype(np.int8)\n",
    "                elif c_min > np.iinfo(np.int16).min and c_max < np.iinfo(np.int16).max:\n",
    "                    df[col] = df[col].astype(np.int16)\n",
    "                elif c_min > np.iinfo(np.int32).min and c_max < np.iinfo(np.int32).max:\n",
    "                    df[col] = df[col].astype(np.int32)\n",
    "                elif c_min > np.iinfo(np.int64).min and c_max < np.iinfo(np.int64).max:\n",
    "                    df[col] = df[col].astype(np.int64)  \n",
    "            else:\n",
    "                if c_min > np.finfo(np.float16).min and c_max < np.finfo(np.float16).max:\n",
    "                    df[col] = df[col].astype(np.float16)\n",
    "                elif c_min > np.finfo(np.float32).min and c_max < np.finfo(np.float32).max:\n",
    "                    df[col] = df[col].astype(np.float32)\n",
    "                else:\n",
    "                    df[col] = df[col].astype(np.float64)\n",
    "        else:\n",
    "            df[col] = df[col].astype('category')\n",
    "\n",
    "    end_mem = df.memory_usage().sum() \n",
    "    print('Memory usage after optimization is: {:.2f} MB'.format(end_mem))\n",
    "    print('Decreased by {:.1f}%'.format(100 * (start_mem - end_mem) / start_mem))\n",
    "    return df"
   ]
  },
  {
   "cell_type": "code",
   "execution_count": 3,
   "metadata": {},
   "outputs": [
    {
     "name": "stdout",
     "output_type": "stream",
     "text": [
      "Memory usage of dataframe is 60507328.00 MB\n",
      "Memory usage after optimization is: 15724107.00 MB\n",
      "Decreased by 74.0%\n"
     ]
    }
   ],
   "source": [
    "sample_feature = reduce_mem_usage(pd.read_csv('data_for_tree.csv'))"
   ]
  },
  {
   "cell_type": "code",
   "execution_count": 4,
   "metadata": {},
   "outputs": [],
   "source": [
    "continuous_feature_names = [x for x in sample_feature.columns if x not in ['price','brand','model','brand']]"
   ]
  },
  {
   "cell_type": "markdown",
   "metadata": {},
   "source": [
    "### 4.4.2 线性回归 & 五折交叉验证 & 模拟真实业务情况"
   ]
  },
  {
   "cell_type": "code",
   "execution_count": 5,
   "metadata": {},
   "outputs": [],
   "source": [
    "sample_feature = sample_feature.dropna().replace('-', 0).reset_index(drop=True)\n",
    "sample_feature['notRepairedDamage'] = sample_feature['notRepairedDamage'].astype(np.float32)\n",
    "train = sample_feature[continuous_feature_names + ['price']]\n",
    "\n",
    "train_X = train[continuous_feature_names]\n",
    "train_y = train['price']"
   ]
  },
  {
   "cell_type": "markdown",
   "metadata": {},
   "source": [
    "#### 4.4.2 - 1 简单建模"
   ]
  },
  {
   "cell_type": "code",
   "execution_count": 6,
   "metadata": {},
   "outputs": [],
   "source": [
    "from sklearn.linear_model import LinearRegression"
   ]
  },
  {
   "cell_type": "code",
   "execution_count": 7,
   "metadata": {},
   "outputs": [],
   "source": [
    "model = LinearRegression(normalize=True)"
   ]
  },
  {
   "cell_type": "code",
   "execution_count": 8,
   "metadata": {},
   "outputs": [],
   "source": [
    "model = model.fit(train_X, train_y)"
   ]
  },
  {
   "cell_type": "markdown",
   "metadata": {},
   "source": [
    "查看训练的线性回归模型的截距（intercept）与权重(coef)"
   ]
  },
  {
   "cell_type": "code",
   "execution_count": 9,
   "metadata": {
    "scrolled": true
   },
   "outputs": [
    {
     "data": {
      "text/plain": [
       "[('v_6', 3342612.384537345),\n",
       " ('v_8', 684205.534533214),\n",
       " ('v_9', 178967.94192530424),\n",
       " ('v_7', 35223.07319016895),\n",
       " ('v_5', 21917.550249749802),\n",
       " ('v_3', 12782.03250792227),\n",
       " ('v_12', 11654.925634146672),\n",
       " ('v_13', 9884.194615297649),\n",
       " ('v_11', 5519.182176035517),\n",
       " ('v_10', 3765.6101415594258),\n",
       " ('gearbox', 900.3205339198406),\n",
       " ('fuelType', 353.5206495542567),\n",
       " ('bodyType', 186.51797317460046),\n",
       " ('city', 45.17354204168846),\n",
       " ('power', 31.163045441455335),\n",
       " ('brand_price_median', 0.535967111869784),\n",
       " ('brand_price_std', 0.4346788365040235),\n",
       " ('brand_amount', 0.15308295553300566),\n",
       " ('brand_price_max', 0.003891831020467389),\n",
       " ('seller', -1.2684613466262817e-06),\n",
       " ('offerType', -4.759058356285095e-06),\n",
       " ('brand_price_sum', -2.2430642281682917e-05),\n",
       " ('name', -0.00042591632723759166),\n",
       " ('used_time', -0.012574429533889028),\n",
       " ('brand_price_average', -0.414105722833381),\n",
       " ('brand_price_min', -2.3163823428971835),\n",
       " ('train', -5.392535065078232),\n",
       " ('power_bin', -59.24591853031839),\n",
       " ('v_14', -233.1604256172217),\n",
       " ('kilometer', -372.96600915402496),\n",
       " ('notRepairedDamage', -449.29703564695365),\n",
       " ('v_0', -1490.6790578168238),\n",
       " ('v_4', -14219.648899108111),\n",
       " ('v_2', -16528.55239086934),\n",
       " ('v_1', -42869.43976200439)]"
      ]
     },
     "execution_count": 9,
     "metadata": {},
     "output_type": "execute_result"
    }
   ],
   "source": [
    "'intercept:'+ str(model.intercept_)\n",
    "\n",
    "sorted(dict(zip(continuous_feature_names, model.coef_)).items(), key=lambda x:x[1], reverse=True)"
   ]
  },
  {
   "cell_type": "code",
   "execution_count": 10,
   "metadata": {},
   "outputs": [],
   "source": [
    "from matplotlib import pyplot as plt"
   ]
  },
  {
   "cell_type": "code",
   "execution_count": 11,
   "metadata": {},
   "outputs": [],
   "source": [
    "subsample_index = np.random.randint(low=0, high=len(train_y), size=50)"
   ]
  },
  {
   "cell_type": "markdown",
   "metadata": {},
   "source": [
    "绘制特征v_9的值与标签的散点图，图片发现模型的预测结果（蓝色点）与真实标签（黑色点）的分布差异较大，且部分预测值出现了小于0的情况，说明我们的模型存在一些问题"
   ]
  },
  {
   "cell_type": "code",
   "execution_count": 12,
   "metadata": {},
   "outputs": [
    {
     "name": "stdout",
     "output_type": "stream",
     "text": [
      "The predicted price is obvious different from true price\n"
     ]
    },
    {
     "data": {
      "image/png": "[encoded data removed]",
      "text/plain": [
       "<Figure size 432x288 with 1 Axes>"
      ]
     },
     "metadata": {
      "needs_background": "light"
     },
     "output_type": "display_data"
    }
   ],
   "source": [
    "plt.scatter(train_X['v_9'][subsample_index], train_y[subsample_index], color='black')\n",
    "plt.scatter(train_X['v_9'][subsample_index], model.predict(train_X.loc[subsample_index]), color='blue')\n",
    "plt.xlabel('v_9')\n",
    "plt.ylabel('price')\n",
    "plt.legend(['True Price','Predicted Price'],loc='upper right')\n",
    "print('The predicted price is obvious different from true price')\n",
    "plt.show()"
   ]
  },
  {
   "cell_type": "markdown",
   "metadata": {},
   "source": [
    "通过作图我们发现数据的标签（price）呈现长尾分布，不利于我们的建模预测。原因是很多模型都假设数据误差项符合正态分布，而长尾分布的数据违背了这一假设。参考博客：https://blog.csdn.net/Noob_daniel/article/details/76087829"
   ]
  },
  {
   "cell_type": "code",
   "execution_count": 13,
   "metadata": {},
   "outputs": [
    {
     "name": "stdout",
     "output_type": "stream",
     "text": [
      "It is clear to see the price shows a typical exponential distribution\n"
     ]
    },
    {
     "data": {
      "text/plain": [
       "<matplotlib.axes._subplots.AxesSubplot at 0x1b33efb2f98>"
      ]
     },
     "execution_count": 13,
     "metadata": {},
     "output_type": "execute_result"
    },
    {
     "data": {
      "image/png": "[encoded data removed]",
      "text/plain": [
       "<Figure size 1080x360 with 2 Axes>"
      ]
     },
     "metadata": {
      "needs_background": "light"
     },
     "output_type": "display_data"
    }
   ],
   "source": [
    "import seaborn as sns\n",
    "print('It is clear to see the price shows a typical exponential distribution')\n",
    "plt.figure(figsize=(15,5))\n",
    "plt.subplot(1,2,1)\n",
    "sns.distplot(train_y)\n",
    "plt.subplot(1,2,2)\n",
    "sns.distplot(train_y[train_y < np.quantile(train_y, 0.9)])"
   ]
  },
  {
   "cell_type": "markdown",
   "metadata": {},
   "source": [
    "在这里我们对标签进行了 $log(x+1)$ 变换，使标签贴近于正态分布"
   ]
  },
  {
   "cell_type": "code",
   "execution_count": 14,
   "metadata": {},
   "outputs": [],
   "source": [
    "train_y_ln = np.log(train_y + 1)"
   ]
  },
  {
   "cell_type": "code",
   "execution_count": 15,
   "metadata": {},
   "outputs": [
    {
     "name": "stdout",
     "output_type": "stream",
     "text": [
      "The transformed price seems like normal distribution\n"
     ]
    },
    {
     "data": {
      "text/plain": [
       "<matplotlib.axes._subplots.AxesSubplot at 0x1b33f077160>"
      ]
     },
     "execution_count": 15,
     "metadata": {},
     "output_type": "execute_result"
    },
    {
     "data": {
      "image/png": "[encoded data removed]",
      "text/plain": [
       "<Figure size 1080x360 with 2 Axes>"
      ]
     },
     "metadata": {
      "needs_background": "light"
     },
     "output_type": "display_data"
    }
   ],
   "source": [
    "import seaborn as sns\n",
    "print('The transformed price seems like normal distribution')\n",
    "plt.figure(figsize=(15,5))\n",
    "plt.subplot(1,2,1)\n",
    "sns.distplot(train_y_ln)\n",
    "plt.subplot(1,2,2)\n",
    "sns.distplot(train_y_ln[train_y_ln < np.quantile(train_y_ln, 0.9)])"
   ]
  },
  {
   "cell_type": "code",
   "execution_count": 16,
   "metadata": {},
   "outputs": [
    {
     "name": "stdout",
     "output_type": "stream",
     "text": [
      "intercept:23.515920686637713\n"
     ]
    },
    {
     "data": {
      "text/plain": [
       "[('v_9', 6.043993029165403),\n",
       " ('v_12', 2.0357439855551394),\n",
       " ('v_11', 1.3607608712255672),\n",
       " ('v_1', 1.3079816298861897),\n",
       " ('v_13', 1.0788833838535354),\n",
       " ('v_3', 0.9895814429387444),\n",
       " ('gearbox', 0.009170812023421397),\n",
       " ('fuelType', 0.006447089787635784),\n",
       " ('bodyType', 0.004815242907679581),\n",
       " ('power_bin', 0.003151801949447194),\n",
       " ('power', 0.0012550361843629999),\n",
       " ('train', 0.0001429273782925814),\n",
       " ('brand_price_min', 2.0721302299502698e-05),\n",
       " ('brand_price_average', 5.308179717783439e-06),\n",
       " ('brand_amount', 2.8308531339942507e-06),\n",
       " ('brand_price_max', 6.764442596115763e-07),\n",
       " ('offerType', 1.6765966392995324e-10),\n",
       " ('seller', 9.308109838457312e-12),\n",
       " ('brand_price_sum', -1.3473184925468486e-10),\n",
       " ('name', -7.11403461065247e-08),\n",
       " ('brand_price_median', -1.7608143661053008e-06),\n",
       " ('brand_price_std', -2.7899058266986454e-06),\n",
       " ('used_time', -5.6142735899344175e-06),\n",
       " ('city', -0.0024992974087053223),\n",
       " ('v_14', -0.012754139659375262),\n",
       " ('kilometer', -0.013999175312751872),\n",
       " ('v_0', -0.04553774829634237),\n",
       " ('notRepairedDamage', -0.273686961116076),\n",
       " ('v_7', -0.7455902679730504),\n",
       " ('v_4', -0.9281349233755761),\n",
       " ('v_2', -1.2781892166433606),\n",
       " ('v_5', -1.5458846136756323),\n",
       " ('v_10', -1.8059217242413748),\n",
       " ('v_8', -42.611729973490604),\n",
       " ('v_6', -241.30992120503035)]"
      ]
     },
     "execution_count": 16,
     "metadata": {},
     "output_type": "execute_result"
    }
   ],
   "source": [
    "model = model.fit(train_X, train_y_ln)\n",
    "\n",
    "print('intercept:'+ str(model.intercept_))\n",
    "sorted(dict(zip(continuous_feature_names, model.coef_)).items(), key=lambda x:x[1], reverse=True)"
   ]
  },
  {
   "cell_type": "markdown",
   "metadata": {},
   "source": [
    "再次进行可视化，发现预测结果与真实值较为接近，且未出现异常状况"
   ]
  },
  {
   "cell_type": "code",
   "execution_count": 17,
   "metadata": {},
   "outputs": [
    {
     "name": "stdout",
     "output_type": "stream",
     "text": [
      "The predicted price seems normal after np.log transforming\n"
     ]
    },
    {
     "data": {
      "image/png": "[encoded data removed]",
      "text/plain": [
       "<Figure size 432x288 with 1 Axes>"
      ]
     },
     "metadata": {
      "needs_background": "light"
     },
     "output_type": "display_data"
    }
   ],
   "source": [
    "plt.scatter(train_X['v_9'][subsample_index], train_y[subsample_index], color='black')\n",
    "plt.scatter(train_X['v_9'][subsample_index], np.exp(model.predict(train_X.loc[subsample_index])), color='blue')\n",
    "plt.xlabel('v_9')\n",
    "plt.ylabel('price')\n",
    "plt.legend(['True Price','Predicted Price'],loc='upper right')\n",
    "print('The predicted price seems normal after np.log transforming')\n",
    "plt.show()"
   ]
  },
  {
   "cell_type": "markdown",
   "metadata": {},
   "source": [
    "#### 4.4.2 - 2 五折交叉验证"
   ]
  },
  {
   "cell_type": "markdown",
   "metadata": {},
   "source": [
    "> 在使用训练集对参数进行训练的时候，经常会发现人们通常会将一整个训练集分为三个部分（比如mnist手写训练集）。一般分为：训练集（train_set），评估集（valid_set），测试集（test_set）这三个部分。这其实是为了保证训练效果而特意设置的。其中测试集很好理解，其实就是完全不参与训练的数据，仅仅用来观测测试效果的数据。而训练集和评估集则牵涉到下面的知识了。\n",
    "\n",
    ">因为在实际的训练中，训练的结果对于训练集的拟合程度通常还是挺好的（初始条件敏感），但是对于训练集之外的数据的拟合程度通常就不那么令人满意了。因此我们通常并不会把所有的数据集都拿来训练，而是分出一部分来（这一部分不参加训练）对训练集生成的参数进行测试，相对客观的判断这些参数对训练集之外的数据的符合程度。这种思想就称为交叉验证（Cross Validation）"
   ]
  },
  {
   "cell_type": "code",
   "execution_count": 18,
   "metadata": {},
   "outputs": [],
   "source": [
    "from sklearn.model_selection import cross_val_score\n",
    "from sklearn.metrics import mean_absolute_error,  make_scorer"
   ]
  },
  {
   "cell_type": "code",
   "execution_count": 19,
   "metadata": {},
   "outputs": [],
   "source": [
    "def log_transfer(func):\n",
    "    def wrapper(y, yhat):\n",
    "        result = func(np.log(y), np.nan_to_num(np.log(yhat)))\n",
    "        return result\n",
    "    return wrapper"
   ]
  },
  {
   "cell_type": "code",
   "execution_count": 20,
   "metadata": {},
   "outputs": [
    {
     "name": "stderr",
     "output_type": "stream",
     "text": [
      "[Parallel(n_jobs=1)]: Using backend SequentialBackend with 1 concurrent workers.\n",
      "[Parallel(n_jobs=1)]: Done   5 out of   5 | elapsed:    1.1s finished\n"
     ]
    }
   ],
   "source": [
    "scores = cross_val_score(model, X=train_X, y=train_y, verbose=1, cv = 5, scoring=make_scorer(log_transfer(mean_absolute_error)))"
   ]
  },
  {
   "cell_type": "markdown",
   "metadata": {},
   "source": [
    "使用线性回归模型，对未处理标签的特征数据进行五折交叉验证（Error 1.36）"
   ]
  },
  {
   "cell_type": "code",
   "execution_count": 21,
   "metadata": {},
   "outputs": [
    {
     "name": "stdout",
     "output_type": "stream",
     "text": [
      "AVG: 1.3641908155886227\n"
     ]
    }
   ],
   "source": [
    "print('AVG:', np.mean(scores))"
   ]
  },
  {
   "cell_type": "markdown",
   "metadata": {},
   "source": [
    "使用线性回归模型，对处理过标签的特征数据进行五折交叉验证（Error 0.19）"
   ]
  },
  {
   "cell_type": "code",
   "execution_count": 22,
   "metadata": {},
   "outputs": [
    {
     "name": "stderr",
     "output_type": "stream",
     "text": [
      "[Parallel(n_jobs=1)]: Using backend SequentialBackend with 1 concurrent workers.\n",
      "[Parallel(n_jobs=1)]: Done   5 out of   5 | elapsed:    1.1s finished\n"
     ]
    }
   ],
   "source": [
    "scores = cross_val_score(model, X=train_X, y=train_y_ln, verbose=1, cv = 5, scoring=make_scorer(mean_absolute_error))"
   ]
  },
  {
   "cell_type": "code",
   "execution_count": 23,
   "metadata": {},
   "outputs": [
    {
     "name": "stdout",
     "output_type": "stream",
     "text": [
      "AVG: 0.19382863663604424\n"
     ]
    }
   ],
   "source": [
    "print('AVG:', np.mean(scores))"
   ]
  },
  {
   "cell_type": "code",
   "execution_count": 24,
   "metadata": {},
   "outputs": [
    {
     "data": {
      "text/html": [
       "<div>\n",
       "<style scoped>\n",
       "    .dataframe tbody tr th:only-of-type {\n",
       "        vertical-align: middle;\n",
       "    }\n",
       "\n",
       "    .dataframe tbody tr th {\n",
       "        vertical-align: top;\n",
       "    }\n",
       "\n",
       "    .dataframe thead th {\n",
       "        text-align: right;\n",
       "    }\n",
       "</style>\n",
       "<table border=\"1\" class=\"dataframe\">\n",
       "  <thead>\n",
       "    <tr style=\"text-align: right;\">\n",
       "      <th></th>\n",
       "      <th>cv1</th>\n",
       "      <th>cv2</th>\n",
       "      <th>cv3</th>\n",
       "      <th>cv4</th>\n",
       "      <th>cv5</th>\n",
       "    </tr>\n",
       "  </thead>\n",
       "  <tbody>\n",
       "    <tr>\n",
       "      <th>MAE</th>\n",
       "      <td>0.191642</td>\n",
       "      <td>0.194986</td>\n",
       "      <td>0.192737</td>\n",
       "      <td>0.195329</td>\n",
       "      <td>0.19445</td>\n",
       "    </tr>\n",
       "  </tbody>\n",
       "</table>\n",
       "</div>"
      ],
      "text/plain": [
       "          cv1       cv2       cv3       cv4      cv5\n",
       "MAE  0.191642  0.194986  0.192737  0.195329  0.19445"
      ]
     },
     "execution_count": 24,
     "metadata": {},
     "output_type": "execute_result"
    }
   ],
   "source": [
    "scores = pd.DataFrame(scores.reshape(1,-1))\n",
    "scores.columns = ['cv' + str(x) for x in range(1, 6)]\n",
    "scores.index = ['MAE']\n",
    "scores"
   ]
  },
  {
   "cell_type": "markdown",
   "metadata": {},
   "source": [
    "#### 4.4.2 - 3 模拟真实业务情况"
   ]
  },
  {
   "cell_type": "markdown",
   "metadata": {},
   "source": [
    "但在事实上，由于我们并不具有预知未来的能力，五折交叉验证在某些与时间相关的数据集上反而反映了不真实的情况。通过2018年的二手车价格预测2017年的二手车价格，这显然是不合理的，因此我们还可以采用时间顺序对数据集进行分隔。在本例中，我们选用靠前时间的4/5样本当作训练集，靠后时间的1/5当作验证集，最终结果与五折交叉验证差距不大"
   ]
  },
  {
   "cell_type": "code",
   "execution_count": 25,
   "metadata": {},
   "outputs": [],
   "source": [
    "import datetime"
   ]
  },
  {
   "cell_type": "code",
   "execution_count": 26,
   "metadata": {},
   "outputs": [],
   "source": [
    "sample_feature = sample_feature.reset_index(drop=True)"
   ]
  },
  {
   "cell_type": "code",
   "execution_count": 27,
   "metadata": {},
   "outputs": [],
   "source": [
    "split_point = len(sample_feature) // 5 * 4"
   ]
  },
  {
   "cell_type": "code",
   "execution_count": 28,
   "metadata": {},
   "outputs": [],
   "source": [
    "train = sample_feature.loc[:split_point].dropna()\n",
    "val = sample_feature.loc[split_point:].dropna()\n",
    "\n",
    "train_X = train[continuous_feature_names]\n",
    "train_y_ln = np.log(train['price'] + 1)\n",
    "val_X = val[continuous_feature_names]\n",
    "val_y_ln = np.log(val['price'] + 1)"
   ]
  },
  {
   "cell_type": "code",
   "execution_count": 29,
   "metadata": {},
   "outputs": [],
   "source": [
    "model = model.fit(train_X, train_y_ln)"
   ]
  },
  {
   "cell_type": "code",
   "execution_count": 30,
   "metadata": {},
   "outputs": [
    {
     "data": {
      "text/plain": [
       "0.19443858353490887"
      ]
     },
     "execution_count": 30,
     "metadata": {},
     "output_type": "execute_result"
    }
   ],
   "source": [
    "mean_absolute_error(val_y_ln, model.predict(val_X))"
   ]
  },
  {
   "cell_type": "markdown",
   "metadata": {},
   "source": [
    "#### 4.4.2 - 4 绘制学习率曲线与验证曲线"
   ]
  },
  {
   "cell_type": "code",
   "execution_count": 32,
   "metadata": {},
   "outputs": [],
   "source": [
    "from sklearn.model_selection import learning_curve, validation_curve"
   ]
  },
  {
   "cell_type": "code",
   "execution_count": 37,
   "metadata": {},
   "outputs": [],
   "source": [
    "? learning_curve"
   ]
  },
  {
   "cell_type": "code",
   "execution_count": 38,
   "metadata": {},
   "outputs": [],
   "source": [
    "def plot_learning_curve(estimator, title, X, y, ylim=None, cv=None,n_jobs=1, train_size=np.linspace(.1, 1.0, 5 )):  \n",
    "    plt.figure()  \n",
    "    plt.title(title)  \n",
    "    if ylim is not None:  \n",
    "        plt.ylim(*ylim)  \n",
    "    plt.xlabel('Training example')  \n",
    "    plt.ylabel('score')  \n",
    "    train_sizes, train_scores, test_scores = learning_curve(estimator, X, y, cv=cv, n_jobs=n_jobs, train_sizes=train_size, scoring = make_scorer(mean_absolute_error))  \n",
    "    train_scores_mean = np.mean(train_scores, axis=1)  \n",
    "    train_scores_std = np.std(train_scores, axis=1)  \n",
    "    test_scores_mean = np.mean(test_scores, axis=1)  \n",
    "    test_scores_std = np.std(test_scores, axis=1)  \n",
    "    plt.grid()#区域  \n",
    "    plt.fill_between(train_sizes, train_scores_mean - train_scores_std,  \n",
    "                     train_scores_mean + train_scores_std, alpha=0.1,  \n",
    "                     color=\"r\")  \n",
    "    plt.fill_between(train_sizes, test_scores_mean - test_scores_std,  \n",
    "                     test_scores_mean + test_scores_std, alpha=0.1,  \n",
    "                     color=\"g\")  \n",
    "    plt.plot(train_sizes, train_scores_mean, 'o-', color='r',  \n",
    "             label=\"Training score\")  \n",
    "    plt.plot(train_sizes, test_scores_mean,'o-',color=\"g\",  \n",
    "             label=\"Cross-validation score\")  \n",
    "    plt.legend(loc=\"best\")  \n",
    "    return plt  "
   ]
  },
  {
   "cell_type": "code",
   "execution_count": 53,
   "metadata": {},
   "outputs": [
    {
     "data": {
      "text/plain": [
       "<module 'matplotlib.pyplot' from 'C:\\\\ProgramData\\\\Anaconda3\\\\lib\\\\site-packages\\\\matplotlib\\\\pyplot.py'>"
      ]
     },
     "execution_count": 53,
     "metadata": {},
     "output_type": "execute_result"
    },
    {
     "data": {
      "image/png": "[encoded data removed]",
      "text/plain": [
       "<Figure size 432x288 with 1 Axes>"
      ]
     },
     "metadata": {
      "needs_background": "light"
     },
     "output_type": "display_data"
    }
   ],
   "source": [
    "plot_learning_curve(LinearRegression(), 'Liner_model', train_X[:1000], train_y_ln[:1000], ylim=(0.0, 0.5), cv=5, n_jobs=1)  "
   ]
  },
  {
   "cell_type": "markdown",
   "metadata": {},
   "source": [
    "#### 4.4.3 多种模型对比"
   ]
  },
  {
   "cell_type": "code",
   "execution_count": 40,
   "metadata": {},
   "outputs": [],
   "source": [
    "train = sample_feature[continuous_feature_names + ['price']].dropna()\n",
    "\n",
    "train_X = train[continuous_feature_names]\n",
    "train_y = train['price']\n",
    "train_y_ln = np.log(train_y + 1)"
   ]
  },
  {
   "cell_type": "markdown",
   "metadata": {},
   "source": [
    "#### 4.4.3 - 1 线性模型 & 嵌入式特征选择"
   ]
  },
  {
   "cell_type": "markdown",
   "metadata": {},
   "source": [
    "本章节默认，学习者已经了解关于过拟合、模型复杂度、正则化等概念。否则请寻找相关资料或参考如下连接：\n",
    "\n",
    "  - 用简单易懂的语言描述「过拟合 overfitting」？ https://www.zhihu.com/question/32246256/answer/55320482\n",
    "  - 模型复杂度与模型的泛化能力 http://yangyingming.com/article/434/\n",
    "  - 正则化的直观理解 https://blog.csdn.net/jinping_shi/article/details/52433975"
   ]
  },
  {
   "cell_type": "markdown",
   "metadata": {},
   "source": [
    "在过滤式和包裹式特征选择方法中，特征选择过程与学习器训练过程有明显的分别。而嵌入式特征选择在学习器训练过程中自动地进行特征选择。嵌入式选择最常用的是L1正则化与L2正则化。在对线性回归模型加入两种正则化方法后，他们分别变成了岭回归与Lasso回归。"
   ]
  },
  {
   "cell_type": "code",
   "execution_count": 41,
   "metadata": {},
   "outputs": [],
   "source": [
    "from sklearn.linear_model import LinearRegression\n",
    "from sklearn.linear_model import Ridge\n",
    "from sklearn.linear_model import Lasso"
   ]
  },
  {
   "cell_type": "code",
   "execution_count": 42,
   "metadata": {},
   "outputs": [],
   "source": [
    "models = [LinearRegression(),\n",
    "          Ridge(),\n",
    "          Lasso()]"
   ]
  },
  {
   "cell_type": "code",
   "execution_count": 43,
   "metadata": {},
   "outputs": [
    {
     "name": "stdout",
     "output_type": "stream",
     "text": [
      "LinearRegression is finished\n",
      "Ridge is finished\n",
      "Lasso is finished\n"
     ]
    }
   ],
   "source": [
    "result = dict()\n",
    "for model in models:\n",
    "    model_name = str(model).split('(')[0]\n",
    "    scores = cross_val_score(model, X=train_X, y=train_y_ln, verbose=0, cv = 5, scoring=make_scorer(mean_absolute_error))\n",
    "    result[model_name] = scores\n",
    "    print(model_name + ' is finished')"
   ]
  },
  {
   "cell_type": "markdown",
   "metadata": {},
   "source": [
    "对三种方法的效果对比"
   ]
  },
  {
   "cell_type": "code",
   "execution_count": 44,
   "metadata": {},
   "outputs": [
    {
     "data": {
      "text/html": [
       "<div>\n",
       "<style scoped>\n",
       "    .dataframe tbody tr th:only-of-type {\n",
       "        vertical-align: middle;\n",
       "    }\n",
       "\n",
       "    .dataframe tbody tr th {\n",
       "        vertical-align: top;\n",
       "    }\n",
       "\n",
       "    .dataframe thead th {\n",
       "        text-align: right;\n",
       "    }\n",
       "</style>\n",
       "<table border=\"1\" class=\"dataframe\">\n",
       "  <thead>\n",
       "    <tr style=\"text-align: right;\">\n",
       "      <th></th>\n",
       "      <th>LinearRegression</th>\n",
       "      <th>Ridge</th>\n",
       "      <th>Lasso</th>\n",
       "    </tr>\n",
       "  </thead>\n",
       "  <tbody>\n",
       "    <tr>\n",
       "      <th>cv1</th>\n",
       "      <td>0.191642</td>\n",
       "      <td>0.195665</td>\n",
       "      <td>0.382708</td>\n",
       "    </tr>\n",
       "    <tr>\n",
       "      <th>cv2</th>\n",
       "      <td>0.194986</td>\n",
       "      <td>0.198841</td>\n",
       "      <td>0.383916</td>\n",
       "    </tr>\n",
       "    <tr>\n",
       "      <th>cv3</th>\n",
       "      <td>0.192737</td>\n",
       "      <td>0.196629</td>\n",
       "      <td>0.380754</td>\n",
       "    </tr>\n",
       "    <tr>\n",
       "      <th>cv4</th>\n",
       "      <td>0.195329</td>\n",
       "      <td>0.199255</td>\n",
       "      <td>0.385683</td>\n",
       "    </tr>\n",
       "    <tr>\n",
       "      <th>cv5</th>\n",
       "      <td>0.194450</td>\n",
       "      <td>0.198173</td>\n",
       "      <td>0.383555</td>\n",
       "    </tr>\n",
       "  </tbody>\n",
       "</table>\n",
       "</div>"
      ],
      "text/plain": [
       "     LinearRegression     Ridge     Lasso\n",
       "cv1          0.191642  0.195665  0.382708\n",
       "cv2          0.194986  0.198841  0.383916\n",
       "cv3          0.192737  0.196629  0.380754\n",
       "cv4          0.195329  0.199255  0.385683\n",
       "cv5          0.194450  0.198173  0.383555"
      ]
     },
     "execution_count": 44,
     "metadata": {},
     "output_type": "execute_result"
    }
   ],
   "source": [
    "result = pd.DataFrame(result)\n",
    "result.index = ['cv' + str(x) for x in range(1, 6)]\n",
    "result"
   ]
  },
  {
   "cell_type": "code",
   "execution_count": 45,
   "metadata": {},
   "outputs": [
    {
     "name": "stdout",
     "output_type": "stream",
     "text": [
      "intercept:23.515984499017883\n"
     ]
    },
    {
     "data": {
      "text/plain": [
       "<matplotlib.axes._subplots.AxesSubplot at 0x1feb933ca58>"
      ]
     },
     "execution_count": 45,
     "metadata": {},
     "output_type": "execute_result"
    },
    {
     "data": {
      "image/png": "[encoded data removed]",
      "text/plain": [
       "<Figure size 432x288 with 1 Axes>"
      ]
     },
     "metadata": {
      "needs_background": "light"
     },
     "output_type": "display_data"
    }
   ],
   "source": [
    "model = LinearRegression().fit(train_X, train_y_ln)\n",
    "print('intercept:'+ str(model.intercept_))\n",
    "sns.barplot(abs(model.coef_), continuous_feature_names)"
   ]
  },
  {
   "cell_type": "markdown",
   "metadata": {},
   "source": [
    "L2正则化在拟合过程中通常都倾向于让权值尽可能小，最后构造一个所有参数都比较小的模型。因为一般认为参数值小的模型比较简单，能适应不同的数据集，也在一定程度上避免了过拟合现象。可以设想一下对于一个线性回归方程，若参数很大，那么只要数据偏移一点点，就会对结果造成很大的影响；但如果参数足够小，数据偏移得多一点也不会对结果造成什么影响，专业一点的说法是『抗扰动能力强』"
   ]
  },
  {
   "cell_type": "code",
   "execution_count": 46,
   "metadata": {
    "scrolled": true
   },
   "outputs": [
    {
     "name": "stdout",
     "output_type": "stream",
     "text": [
      "intercept:5.901527844424091\n"
     ]
    },
    {
     "data": {
      "text/plain": [
       "<matplotlib.axes._subplots.AxesSubplot at 0x1fea9056860>"
      ]
     },
     "execution_count": 46,
     "metadata": {},
     "output_type": "execute_result"
    },
    {
     "data": {
      "image/png": "[encoded data removed]",
      "text/plain": [
       "<Figure size 432x288 with 1 Axes>"
      ]
     },
     "metadata": {
      "needs_background": "light"
     },
     "output_type": "display_data"
    }
   ],
   "source": [
    "model = Ridge().fit(train_X, train_y_ln)\n",
    "print('intercept:'+ str(model.intercept_))\n",
    "sns.barplot(abs(model.coef_), continuous_feature_names)"
   ]
  },
  {
   "cell_type": "markdown",
   "metadata": {},
   "source": [
    "L1正则化有助于生成一个稀疏权值矩阵，进而可以用于特征选择。如下图，我们发现power与userd_time特征非常重要。"
   ]
  },
  {
   "cell_type": "code",
   "execution_count": 47,
   "metadata": {},
   "outputs": [
    {
     "name": "stdout",
     "output_type": "stream",
     "text": [
      "intercept:8.674427764003347\n"
     ]
    },
    {
     "data": {
      "text/plain": [
       "<matplotlib.axes._subplots.AxesSubplot at 0x1fea90b69b0>"
      ]
     },
     "execution_count": 47,
     "metadata": {},
     "output_type": "execute_result"
    },
    {
     "data": {
      "image/png": "[encoded data removed]",
      "text/plain": [
       "<Figure size 432x288 with 1 Axes>"
      ]
     },
     "metadata": {
      "needs_background": "light"
     },
     "output_type": "display_data"
    }
   ],
   "source": [
    "model = Lasso().fit(train_X, train_y_ln)\n",
    "print('intercept:'+ str(model.intercept_))\n",
    "sns.barplot(abs(model.coef_), continuous_feature_names)"
   ]
  },
  {
   "cell_type": "markdown",
   "metadata": {},
   "source": [
    "除此之外，决策树通过信息熵或GINI指数选择分裂节点时，优先选择的分裂特征也更加重要，这同样是一种特征选择的方法。XGBoost与LightGBM模型中的model_importance指标正是基于此计算的"
   ]
  },
  {
   "cell_type": "markdown",
   "metadata": {},
   "source": [
    "#### 4.4.3 - 2 非线性模型"
   ]
  },
  {
   "cell_type": "markdown",
   "metadata": {},
   "source": [
    "除了线性模型以外，还有许多我们常用的非线性模型如下，在此篇幅有限不再一一讲解原理。我们选择了部分常用模型与线性模型进行效果比对。"
   ]
  },
  {
   "cell_type": "code",
   "execution_count": 48,
   "metadata": {},
   "outputs": [],
   "source": [
    "from sklearn.linear_model import LinearRegression\n",
    "from sklearn.svm import SVC\n",
    "from sklearn.tree import DecisionTreeRegressor\n",
    "from sklearn.ensemble import RandomForestRegressor\n",
    "from sklearn.ensemble import GradientBoostingRegressor\n",
    "from sklearn.neural_network import MLPRegressor\n",
    "from xgboost.sklearn import XGBRegressor\n",
    "from lightgbm.sklearn import LGBMRegressor"
   ]
  },
  {
   "cell_type": "code",
   "execution_count": 49,
   "metadata": {},
   "outputs": [],
   "source": [
    "models = [LinearRegression(),\n",
    "          DecisionTreeRegressor(),\n",
    "          RandomForestRegressor(),\n",
    "          GradientBoostingRegressor(),\n",
    "          MLPRegressor(solver='lbfgs', max_iter=100), \n",
    "          XGBRegressor(n_estimators = 100, objective='reg:squarederror'), \n",
    "          LGBMRegressor(n_estimators = 100)]"
   ]
  },
  {
   "cell_type": "code",
   "execution_count": 50,
   "metadata": {},
   "outputs": [
    {
     "name": "stdout",
     "output_type": "stream",
     "text": [
      "LinearRegression is finished\n",
      "DecisionTreeRegressor is finished\n",
      "RandomForestRegressor is finished\n",
      "GradientBoostingRegressor is finished\n",
      "MLPRegressor is finished\n",
      "XGBRegressor is finished\n",
      "LGBMRegressor is finished\n"
     ]
    }
   ],
   "source": [
    "result = dict()\n",
    "for model in models:\n",
    "    model_name = str(model).split('(')[0]\n",
    "    scores = cross_val_score(model, X=train_X, y=train_y_ln, verbose=0, cv = 5, scoring=make_scorer(mean_absolute_error))\n",
    "    result[model_name] = scores\n",
    "    print(model_name + ' is finished')"
   ]
  },
  {
   "cell_type": "code",
   "execution_count": 51,
   "metadata": {},
   "outputs": [
    {
     "data": {
      "text/html": [
       "<div>\n",
       "<style scoped>\n",
       "    .dataframe tbody tr th:only-of-type {\n",
       "        vertical-align: middle;\n",
       "    }\n",
       "\n",
       "    .dataframe tbody tr th {\n",
       "        vertical-align: top;\n",
       "    }\n",
       "\n",
       "    .dataframe thead th {\n",
       "        text-align: right;\n",
       "    }\n",
       "</style>\n",
       "<table border=\"1\" class=\"dataframe\">\n",
       "  <thead>\n",
       "    <tr style=\"text-align: right;\">\n",
       "      <th></th>\n",
       "      <th>LinearRegression</th>\n",
       "      <th>DecisionTreeRegressor</th>\n",
       "      <th>RandomForestRegressor</th>\n",
       "      <th>GradientBoostingRegressor</th>\n",
       "      <th>MLPRegressor</th>\n",
       "      <th>XGBRegressor</th>\n",
       "      <th>LGBMRegressor</th>\n",
       "    </tr>\n",
       "  </thead>\n",
       "  <tbody>\n",
       "    <tr>\n",
       "      <th>cv1</th>\n",
       "      <td>0.191642</td>\n",
       "      <td>0.184566</td>\n",
       "      <td>0.136266</td>\n",
       "      <td>0.168626</td>\n",
       "      <td>124.299426</td>\n",
       "      <td>0.168698</td>\n",
       "      <td>0.141159</td>\n",
       "    </tr>\n",
       "    <tr>\n",
       "      <th>cv2</th>\n",
       "      <td>0.194986</td>\n",
       "      <td>0.187029</td>\n",
       "      <td>0.139693</td>\n",
       "      <td>0.171905</td>\n",
       "      <td>257.886236</td>\n",
       "      <td>0.172258</td>\n",
       "      <td>0.143363</td>\n",
       "    </tr>\n",
       "    <tr>\n",
       "      <th>cv3</th>\n",
       "      <td>0.192737</td>\n",
       "      <td>0.184839</td>\n",
       "      <td>0.136871</td>\n",
       "      <td>0.169553</td>\n",
       "      <td>236.829589</td>\n",
       "      <td>0.168604</td>\n",
       "      <td>0.142137</td>\n",
       "    </tr>\n",
       "    <tr>\n",
       "      <th>cv4</th>\n",
       "      <td>0.195329</td>\n",
       "      <td>0.182605</td>\n",
       "      <td>0.138689</td>\n",
       "      <td>0.172299</td>\n",
       "      <td>130.197264</td>\n",
       "      <td>0.172474</td>\n",
       "      <td>0.143461</td>\n",
       "    </tr>\n",
       "    <tr>\n",
       "      <th>cv5</th>\n",
       "      <td>0.194450</td>\n",
       "      <td>0.186626</td>\n",
       "      <td>0.137420</td>\n",
       "      <td>0.171206</td>\n",
       "      <td>268.090236</td>\n",
       "      <td>0.170898</td>\n",
       "      <td>0.141921</td>\n",
       "    </tr>\n",
       "  </tbody>\n",
       "</table>\n",
       "</div>"
      ],
      "text/plain": [
       "     LinearRegression  DecisionTreeRegressor  RandomForestRegressor  \\\n",
       "cv1          0.191642               0.184566               0.136266   \n",
       "cv2          0.194986               0.187029               0.139693   \n",
       "cv3          0.192737               0.184839               0.136871   \n",
       "cv4          0.195329               0.182605               0.138689   \n",
       "cv5          0.194450               0.186626               0.137420   \n",
       "\n",
       "     GradientBoostingRegressor  MLPRegressor  XGBRegressor  LGBMRegressor  \n",
       "cv1                   0.168626    124.299426      0.168698       0.141159  \n",
       "cv2                   0.171905    257.886236      0.172258       0.143363  \n",
       "cv3                   0.169553    236.829589      0.168604       0.142137  \n",
       "cv4                   0.172299    130.197264      0.172474       0.143461  \n",
       "cv5                   0.171206    268.090236      0.170898       0.141921  "
      ]
     },
     "execution_count": 51,
     "metadata": {},
     "output_type": "execute_result"
    }
   ],
   "source": [
    "result = pd.DataFrame(result)\n",
    "result.index = ['cv' + str(x) for x in range(1, 6)]\n",
    "result"
   ]
  },
  {
   "cell_type": "markdown",
   "metadata": {},
   "source": [
    "可以看到随机森林模型在每一个fold中均取得了更好的效果"
   ]
  },
  {
   "cell_type": "markdown",
   "metadata": {},
   "source": [
    "#### 4.4.4  模型调参"
   ]
  },
  {
   "cell_type": "markdown",
   "metadata": {},
   "source": [
    "在此我们介绍了三种常用的调参方法如下：\n",
    "\n",
    "  - 贪心算法 https://www.jianshu.com/p/ab89df9759c8\n",
    "  - 网格调参 https://blog.csdn.net/weixin_43172660/article/details/83032029\n",
    "  - 贝叶斯调参 https://blog.csdn.net/linxid/article/details/81189154"
   ]
  },
  {
   "cell_type": "code",
   "execution_count": 52,
   "metadata": {},
   "outputs": [],
   "source": [
    "## LGB的参数集合：\n",
    "\n",
    "objective = ['regression', 'regression_l1', 'mape', 'huber', 'fair']\n",
    "\n",
    "num_leaves = [3,5,10,15,20,40, 55]\n",
    "max_depth = [3,5,10,15,20,40, 55]\n",
    "bagging_fraction = []\n",
    "feature_fraction = []\n",
    "drop_rate = []"
   ]
  },
  {
   "cell_type": "markdown",
   "metadata": {},
   "source": [
    "#### 4.4.4 - 1 贪心调参"
   ]
  },
  {
   "cell_type": "code",
   "execution_count": 53,
   "metadata": {},
   "outputs": [],
   "source": [
    "best_obj = dict()\n",
    "for obj in objective:\n",
    "    model = LGBMRegressor(objective=obj)\n",
    "    score = np.mean(cross_val_score(model, X=train_X, y=train_y_ln, verbose=0, cv = 5, scoring=make_scorer(mean_absolute_error)))\n",
    "    best_obj[obj] = score\n",
    "    \n",
    "best_leaves = dict()\n",
    "for leaves in num_leaves:\n",
    "    model = LGBMRegressor(objective=min(best_obj.items(), key=lambda x:x[1])[0], num_leaves=leaves)\n",
    "    score = np.mean(cross_val_score(model, X=train_X, y=train_y_ln, verbose=0, cv = 5, scoring=make_scorer(mean_absolute_error)))\n",
    "    best_leaves[leaves] = score\n",
    "    \n",
    "best_depth = dict()\n",
    "for depth in max_depth:\n",
    "    model = LGBMRegressor(objective=min(best_obj.items(), key=lambda x:x[1])[0],\n",
    "                          num_leaves=min(best_leaves.items(), key=lambda x:x[1])[0],\n",
    "                          max_depth=depth)\n",
    "    score = np.mean(cross_val_score(model, X=train_X, y=train_y_ln, verbose=0, cv = 5, scoring=make_scorer(mean_absolute_error)))\n",
    "    best_depth[depth] = score"
   ]
  },
  {
   "cell_type": "code",
   "execution_count": 54,
   "metadata": {},
   "outputs": [
    {
     "data": {
      "text/plain": [
       "<matplotlib.axes._subplots.AxesSubplot at 0x1fea93f6080>"
      ]
     },
     "execution_count": 54,
     "metadata": {},
     "output_type": "execute_result"
    },
    {
     "data": {
      "image/png": "[encoded data removed]",
      "text/plain": [
       "<Figure size 432x288 with 1 Axes>"
      ]
     },
     "metadata": {
      "needs_background": "light"
     },
     "output_type": "display_data"
    }
   ],
   "source": [
    "sns.lineplot(x=['0_initial','1_turning_obj','2_turning_leaves','3_turning_depth'], y=[0.143 ,min(best_obj.values()), min(best_leaves.values()), min(best_depth.values())])"
   ]
  },
  {
   "cell_type": "markdown",
   "metadata": {},
   "source": [
    "#### 4.4.4 - 2 Grid Search 调参"
   ]
  },
  {
   "cell_type": "code",
   "execution_count": 55,
   "metadata": {},
   "outputs": [],
   "source": [
    "from sklearn.model_selection import GridSearchCV"
   ]
  },
  {
   "cell_type": "code",
   "execution_count": 56,
   "metadata": {},
   "outputs": [],
   "source": [
    "parameters = {'objective': objective , 'num_leaves': num_leaves, 'max_depth': max_depth}\n",
    "model = LGBMRegressor()\n",
    "clf = GridSearchCV(model, parameters, cv=5)\n",
    "clf = clf.fit(train_X, train_y)"
   ]
  },
  {
   "cell_type": "code",
   "execution_count": 57,
   "metadata": {},
   "outputs": [
    {
     "data": {
      "text/plain": [
       "{'max_depth': 15, 'num_leaves': 55, 'objective': 'regression'}"
      ]
     },
     "execution_count": 57,
     "metadata": {},
     "output_type": "execute_result"
    }
   ],
   "source": [
    "clf.best_params_"
   ]
  },
  {
   "cell_type": "code",
   "execution_count": 58,
   "metadata": {},
   "outputs": [],
   "source": [
    "model = LGBMRegressor(objective='regression',\n",
    "                          num_leaves=55,\n",
    "                          max_depth=15)"
   ]
  },
  {
   "cell_type": "code",
   "execution_count": 59,
   "metadata": {},
   "outputs": [
    {
     "data": {
      "text/plain": [
       "0.13626164479243302"
      ]
     },
     "execution_count": 59,
     "metadata": {},
     "output_type": "execute_result"
    }
   ],
   "source": [
    "np.mean(cross_val_score(model, X=train_X, y=train_y_ln, verbose=0, cv = 5, scoring=make_scorer(mean_absolute_error)))"
   ]
  },
  {
   "cell_type": "markdown",
   "metadata": {},
   "source": [
    "#### 4.4.4 - 3 贝叶斯调参"
   ]
  },
  {
   "cell_type": "markdown",
   "metadata": {},
   "source": [
    "**关于Datawhale：**\n",
    "\n",
    "> Datawhale是一个专注于数据科学与AI领域的开源组织，汇集了众多领域院校和知名企业的优秀学习者，聚合了一群有开源精神和探索精神的团队成员。Datawhale 以“for the learner，和学习者一起成长”为愿景，鼓励真实地展现自我、开放包容、互信互助、敢于试错和勇于担当。同时 Datawhale 用开源的理念去探索开源内容、开源学习和开源方案，赋能人才培养，助力人才成长，建立起人与人，人与知识，人与企业和人与未来的联结。\n",
    "\n",
    "本次数据挖掘路径学习，专题知识将在天池分享，详情可关注Datawhale：\n",
    "（图片！！！）"
   ]
  },
  {
   "cell_type": "code",
   "execution_count": 60,
   "metadata": {},
   "outputs": [],
   "source": [
    "from bayes_opt import BayesianOptimization"
   ]
  },
  {
   "cell_type": "code",
   "execution_count": 61,
   "metadata": {},
   "outputs": [],
   "source": [
    "def rf_cv(num_leaves, max_depth, subsample, min_child_samples):\n",
    "    val = cross_val_score(\n",
    "        LGBMRegressor(objective = 'regression_l1',\n",
    "            num_leaves=int(num_leaves),\n",
    "            max_depth=int(max_depth),\n",
    "            subsample = subsample,\n",
    "            min_child_samples = int(min_child_samples)\n",
    "        ),\n",
    "        X=train_X, y=train_y_ln, verbose=0, cv = 5, scoring=make_scorer(mean_absolute_error)\n",
    "    ).mean()\n",
    "    return 1 - val"
   ]
  },
  {
   "cell_type": "code",
   "execution_count": 62,
   "metadata": {},
   "outputs": [],
   "source": [
    "rf_bo = BayesianOptimization(\n",
    "    rf_cv,\n",
    "    {\n",
    "    'num_leaves': (2, 100),\n",
    "    'max_depth': (2, 100),\n",
    "    'subsample': (0.1, 1),\n",
    "    'min_child_samples' : (2, 100)\n",
    "    }\n",
    ")"
   ]
  },
  {
   "cell_type": "code",
   "execution_count": 63,
   "metadata": {},
   "outputs": [
    {
     "name": "stdout",
     "output_type": "stream",
     "text": [
      "|   iter    |  target   | max_depth | min_ch... | num_le... | subsample |\n",
      "-------------------------------------------------------------------------\n",
      "| \u001b[0m 1       \u001b[0m | \u001b[0m 0.8649  \u001b[0m | \u001b[0m 89.57   \u001b[0m | \u001b[0m 47.3    \u001b[0m | \u001b[0m 55.13   \u001b[0m | \u001b[0m 0.1792  \u001b[0m |\n",
      "| \u001b[0m 2       \u001b[0m | \u001b[0m 0.8477  \u001b[0m | \u001b[0m 99.86   \u001b[0m | \u001b[0m 60.91   \u001b[0m | \u001b[0m 15.35   \u001b[0m | \u001b[0m 0.4716  \u001b[0m |\n",
      "| \u001b[95m 3       \u001b[0m | \u001b[95m 0.8698  \u001b[0m | \u001b[95m 81.74   \u001b[0m | \u001b[95m 83.32   \u001b[0m | \u001b[95m 92.59   \u001b[0m | \u001b[95m 0.9559  \u001b[0m |\n",
      "| \u001b[0m 4       \u001b[0m | \u001b[0m 0.8627  \u001b[0m | \u001b[0m 90.2    \u001b[0m | \u001b[0m 8.754   \u001b[0m | \u001b[0m 43.34   \u001b[0m | \u001b[0m 0.7772  \u001b[0m |\n",
      "| \u001b[0m 5       \u001b[0m | \u001b[0m 0.8115  \u001b[0m | \u001b[0m 10.07   \u001b[0m | \u001b[0m 86.15   \u001b[0m | \u001b[0m 4.109   \u001b[0m | \u001b[0m 0.3416  \u001b[0m |\n",
      "| \u001b[95m 6       \u001b[0m | \u001b[95m 0.8701  \u001b[0m | \u001b[95m 99.15   \u001b[0m | \u001b[95m 9.158   \u001b[0m | \u001b[95m 99.47   \u001b[0m | \u001b[95m 0.494   \u001b[0m |\n",
      "| \u001b[0m 7       \u001b[0m | \u001b[0m 0.806   \u001b[0m | \u001b[0m 2.166   \u001b[0m | \u001b[0m 2.416   \u001b[0m | \u001b[0m 97.7    \u001b[0m | \u001b[0m 0.224   \u001b[0m |\n",
      "| \u001b[0m 8       \u001b[0m | \u001b[0m 0.8701  \u001b[0m | \u001b[0m 98.57   \u001b[0m | \u001b[0m 97.67   \u001b[0m | \u001b[0m 99.87   \u001b[0m | \u001b[0m 0.3703  \u001b[0m |\n",
      "| \u001b[95m 9       \u001b[0m | \u001b[95m 0.8703  \u001b[0m | \u001b[95m 99.87   \u001b[0m | \u001b[95m 43.03   \u001b[0m | \u001b[95m 99.72   \u001b[0m | \u001b[95m 0.9749  \u001b[0m |\n",
      "| \u001b[0m 10      \u001b[0m | \u001b[0m 0.869   \u001b[0m | \u001b[0m 10.31   \u001b[0m | \u001b[0m 99.63   \u001b[0m | \u001b[0m 99.34   \u001b[0m | \u001b[0m 0.2517  \u001b[0m |\n",
      "| \u001b[95m 11      \u001b[0m | \u001b[95m 0.8703  \u001b[0m | \u001b[95m 52.27   \u001b[0m | \u001b[95m 99.56   \u001b[0m | \u001b[95m 98.97   \u001b[0m | \u001b[95m 0.9641  \u001b[0m |\n",
      "| \u001b[0m 12      \u001b[0m | \u001b[0m 0.8669  \u001b[0m | \u001b[0m 99.89   \u001b[0m | \u001b[0m 8.846   \u001b[0m | \u001b[0m 66.49   \u001b[0m | \u001b[0m 0.1437  \u001b[0m |\n",
      "| \u001b[0m 13      \u001b[0m | \u001b[0m 0.8702  \u001b[0m | \u001b[0m 68.13   \u001b[0m | \u001b[0m 75.28   \u001b[0m | \u001b[0m 98.71   \u001b[0m | \u001b[0m 0.153   \u001b[0m |\n",
      "| \u001b[0m 14      \u001b[0m | \u001b[0m 0.8695  \u001b[0m | \u001b[0m 84.13   \u001b[0m | \u001b[0m 86.48   \u001b[0m | \u001b[0m 91.9    \u001b[0m | \u001b[0m 0.7949  \u001b[0m |\n",
      "| \u001b[0m 15      \u001b[0m | \u001b[0m 0.8702  \u001b[0m | \u001b[0m 98.09   \u001b[0m | \u001b[0m 59.2    \u001b[0m | \u001b[0m 99.65   \u001b[0m | \u001b[0m 0.3275  \u001b[0m |\n",
      "| \u001b[0m 16      \u001b[0m | \u001b[0m 0.87    \u001b[0m | \u001b[0m 68.97   \u001b[0m | \u001b[0m 98.62   \u001b[0m | \u001b[0m 98.93   \u001b[0m | \u001b[0m 0.2221  \u001b[0m |\n",
      "| \u001b[0m 17      \u001b[0m | \u001b[0m 0.8702  \u001b[0m | \u001b[0m 99.85   \u001b[0m | \u001b[0m 63.74   \u001b[0m | \u001b[0m 99.63   \u001b[0m | \u001b[0m 0.4137  \u001b[0m |\n",
      "| \u001b[0m 18      \u001b[0m | \u001b[0m 0.8703  \u001b[0m | \u001b[0m 45.87   \u001b[0m | \u001b[0m 99.05   \u001b[0m | \u001b[0m 99.89   \u001b[0m | \u001b[0m 0.3238  \u001b[0m |\n",
      "| \u001b[0m 19      \u001b[0m | \u001b[0m 0.8702  \u001b[0m | \u001b[0m 79.65   \u001b[0m | \u001b[0m 46.91   \u001b[0m | \u001b[0m 98.61   \u001b[0m | \u001b[0m 0.8999  \u001b[0m |\n",
      "| \u001b[0m 20      \u001b[0m | \u001b[0m 0.8702  \u001b[0m | \u001b[0m 99.25   \u001b[0m | \u001b[0m 36.73   \u001b[0m | \u001b[0m 99.05   \u001b[0m | \u001b[0m 0.1262  \u001b[0m |\n",
      "| \u001b[0m 21      \u001b[0m | \u001b[0m 0.8702  \u001b[0m | \u001b[0m 85.51   \u001b[0m | \u001b[0m 85.34   \u001b[0m | \u001b[0m 99.77   \u001b[0m | \u001b[0m 0.8917  \u001b[0m |\n",
      "| \u001b[0m 22      \u001b[0m | \u001b[0m 0.8696  \u001b[0m | \u001b[0m 99.99   \u001b[0m | \u001b[0m 38.51   \u001b[0m | \u001b[0m 89.13   \u001b[0m | \u001b[0m 0.9884  \u001b[0m |\n",
      "| \u001b[0m 23      \u001b[0m | \u001b[0m 0.8701  \u001b[0m | \u001b[0m 63.29   \u001b[0m | \u001b[0m 97.93   \u001b[0m | \u001b[0m 99.94   \u001b[0m | \u001b[0m 0.9585  \u001b[0m |\n",
      "| \u001b[0m 24      \u001b[0m | \u001b[0m 0.8702  \u001b[0m | \u001b[0m 93.04   \u001b[0m | \u001b[0m 71.42   \u001b[0m | \u001b[0m 99.94   \u001b[0m | \u001b[0m 0.9646  \u001b[0m |\n",
      "| \u001b[0m 25      \u001b[0m | \u001b[0m 0.8701  \u001b[0m | \u001b[0m 99.73   \u001b[0m | \u001b[0m 16.21   \u001b[0m | \u001b[0m 99.38   \u001b[0m | \u001b[0m 0.9778  \u001b[0m |\n",
      "| \u001b[0m 26      \u001b[0m | \u001b[0m 0.87    \u001b[0m | \u001b[0m 86.28   \u001b[0m | \u001b[0m 58.1    \u001b[0m | \u001b[0m 99.47   \u001b[0m | \u001b[0m 0.107   \u001b[0m |\n",
      "| \u001b[0m 27      \u001b[0m | \u001b[0m 0.8703  \u001b[0m | \u001b[0m 47.28   \u001b[0m | \u001b[0m 99.83   \u001b[0m | \u001b[0m 99.65   \u001b[0m | \u001b[0m 0.4674  \u001b[0m |\n",
      "| \u001b[0m 28      \u001b[0m | \u001b[0m 0.8703  \u001b[0m | \u001b[0m 68.29   \u001b[0m | \u001b[0m 99.51   \u001b[0m | \u001b[0m 99.4    \u001b[0m | \u001b[0m 0.2757  \u001b[0m |\n",
      "| \u001b[0m 29      \u001b[0m | \u001b[0m 0.8701  \u001b[0m | \u001b[0m 76.49   \u001b[0m | \u001b[0m 73.41   \u001b[0m | \u001b[0m 99.86   \u001b[0m | \u001b[0m 0.9394  \u001b[0m |\n",
      "| \u001b[0m 30      \u001b[0m | \u001b[0m 0.8695  \u001b[0m | \u001b[0m 37.27   \u001b[0m | \u001b[0m 99.87   \u001b[0m | \u001b[0m 89.87   \u001b[0m | \u001b[0m 0.7588  \u001b[0m |\n",
      "=========================================================================\n"
     ]
    }
   ],
   "source": [
    "rf_bo.maximize()"
   ]
  },
  {
   "cell_type": "code",
   "execution_count": 64,
   "metadata": {},
   "outputs": [
    {
     "data": {
      "text/plain": [
       "0.1296693644053145"
      ]
     },
     "execution_count": 64,
     "metadata": {},
     "output_type": "execute_result"
    }
   ],
   "source": [
    "1 - rf_bo.max['target']"
   ]
  },
  {
   "cell_type": "markdown",
   "metadata": {},
   "source": [
    "## 总结"
   ]
  },
  {
   "cell_type": "markdown",
   "metadata": {},
   "source": [
    "在本章中，我们完成了建模与调参的工作，并对我们的模型进行了验证。此外，我们还采用了一些基本方法来提高预测的精度，提升如下图所示。"
   ]
  },
  {
   "cell_type": "code",
   "execution_count": 70,
   "metadata": {},
   "outputs": [
    {
     "data": {
      "text/plain": [
       "<matplotlib.axes._subplots.AxesSubplot at 0x1feac73ceb8>"
      ]
     },
     "execution_count": 70,
     "metadata": {},
     "output_type": "execute_result"
    },
    {
     "data": {
      "image/png": "[encoded data removed]",
      "text/plain": [
       "<Figure size 936x360 with 1 Axes>"
      ]
     },
     "metadata": {
      "needs_background": "light"
     },
     "output_type": "display_data"
    }
   ],
   "source": [
    "plt.figure(figsize=(13,5))\n",
    "sns.lineplot(x=['0_origin','1_log_transfer','2_L1_&_L2','3_change_model','4_parameter_turning'], y=[1.36 ,0.19, 0.19, 0.14, 0.13])"
   ]
  }
 ],
 "metadata": {
  "kernelspec": {
   "display_name": "Python 3",
   "language": "python",
   "name": "python3"
  },
  "language_info": {
   "codemirror_mode": {
    "name": "ipython",
    "version": 3
   },
   "file_extension": ".py",
   "mimetype": "text/x-python",
   "name": "python",
   "nbconvert_exporter": "python",
   "pygments_lexer": "ipython3",
   "version": "3.7.4"
  }
 },
 "nbformat": 4,
 "nbformat_minor": 2
}
